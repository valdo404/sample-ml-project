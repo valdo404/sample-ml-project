{
 "cells": [
  {
   "cell_type": "code",
   "execution_count": null,
   "id": "initial_id",
   "metadata": {
    "ExecuteTime": {
     "end_time": "2024-05-07T10:28:24.364137Z",
     "start_time": "2024-05-07T10:28:24.049836Z"
    }
   },
   "outputs": [],
   "source": [
    "import pandas as pd\n",
    "import numpy as np\n",
    "from IPython.display import display, HTML\n",
    "\n",
    "from processing import encoding, detection, outliers\n",
    "\n",
    "parquet_file_path = '../xxx.parquet'\n",
    "\n",
    "df = pd.read_parquet(parquet_file_path)\n"
   ]
  },
  {
   "cell_type": "code",
   "execution_count": null,
   "id": "fac10b42-a573-4071-aab0-561572dd57cd",
   "metadata": {
    "ExecuteTime": {
     "end_time": "2024-05-07T10:36:00.529317Z",
     "start_time": "2024-05-07T10:36:00.384558Z"
    }
   },
   "outputs": [],
   "source": [
    "\n",
    "\n",
    "with pd.option_context('display.max_rows', None):\n",
    "    display(HTML(\"<h3>Column Data Types</h3>\"))\n",
    "    display(df.dtypes)\n",
    "\n",
    "    category_like_columns = [col for col in df.columns if df[col].dtype == 'object' and detection.all_strings(df[col])]\n",
    "    display(HTML(\"<h3>Categorical columns</h3>\"))\n",
    "    display(category_like_columns)\n",
    "\n",
    "    list_like_columns = [col for col in df.columns if detection.contains_list(df[col])]\n",
    "    display(HTML(\"<h3>List columns</h3>\"))\n",
    "    display(list_like_columns)\n",
    "\n",
    "    float_like_columns = df.select_dtypes(include=['float64', 'float32']).columns.tolist()\n",
    "    display(HTML(\"<h3>Float like columns</h3>\"))\n",
    "    display(float_like_columns)\n",
    "\n",
    "for col in category_like_columns:\n",
    "    df[col] = df[col].astype('category')\n"
   ]
  },
  {
   "cell_type": "code",
   "execution_count": null,
   "id": "ac7b5bae8dc18287",
   "metadata": {
    "ExecuteTime": {
     "end_time": "2024-04-16T15:41:26.213751Z",
     "start_time": "2024-04-16T15:41:26.212299Z"
    },
    "collapsed": false,
    "jupyter": {
     "outputs_hidden": false
    }
   },
   "outputs": [],
   "source": []
  },
  {
   "cell_type": "code",
   "execution_count": null,
   "id": "df91a1c4-77ac-4de3-b4a3-5dcccb80d171",
   "metadata": {
    "ExecuteTime": {
     "end_time": "2024-04-16T15:41:26.284980Z",
     "start_time": "2024-04-16T15:41:26.215306Z"
    }
   },
   "outputs": [],
   "source": [
    "from processing import encoding\n",
    "\n",
    "exclude_list_columns = []\n",
    "list_like_columns_for_analysis = [col for col in list_like_columns if col not in exclude_list_columns]\n",
    "only_lists_df = df[list_like_columns_for_analysis].copy()\n",
    "\n",
    "exclude_categorical_columns = []\n",
    "categorical_columns_for_analysis = [col for col in category_like_columns if col not in exclude_categorical_columns]\n",
    "category_like_df = df[categorical_columns_for_analysis].copy()\n",
    "\n",
    "exclude_float_columns = []\n",
    "float_columns_for_analysis = [col for col in float_like_columns if col not in exclude_float_columns]\n",
    "float_like_df = df[float_columns_for_analysis].copy()\n"
   ]
  },
  {
   "cell_type": "code",
   "execution_count": null,
   "id": "b6dd0a85-c1e1-41fb-963f-b0263949196b",
   "metadata": {
    "ExecuteTime": {
     "end_time": "2024-04-16T15:41:27.888884Z",
     "start_time": "2024-04-16T15:41:26.285433Z"
    },
    "collapsed": false,
    "jupyter": {
     "outputs_hidden": false
    }
   },
   "outputs": [],
   "source": [
    "\n",
    "display(HTML(\"<h3>Displaying list types</h3>\"))\n",
    "\n",
    "for column_to_unnest in list_like_columns_for_analysis:\n",
    "    temp_df = df[['product_name', column_to_unnest]].copy()\n",
    "    temp_df_exploded = temp_df.explode(column_to_unnest)\n",
    "    temp_df_exploded[column_to_unnest] = temp_df_exploded[column_to_unnest].astype('category')\n",
    "\n",
    "    display(temp_df_exploded[column_to_unnest].describe(include='category'))\n",
    "\n",
    "    display(HTML(\"<br>\"))"
   ]
  },
  {
   "cell_type": "code",
   "execution_count": null,
   "id": "a51af71e09b29472",
   "metadata": {
    "ExecuteTime": {
     "end_time": "2024-04-16T15:41:32.050926Z",
     "start_time": "2024-04-16T15:41:27.889792Z"
    },
    "collapsed": false,
    "jupyter": {
     "outputs_hidden": false
    }
   },
   "outputs": [],
   "source": [
    "for column in float_columns_for_analysis:\n",
    "    _, outlier_indices = outliers.find_outliers(df[column])\n",
    "\n",
    "    df.loc[outlier_indices, column] = np.nan\n",
    "\n",
    "    outliers.histplot(df[column])"
   ]
  },
  {
   "cell_type": "code",
   "execution_count": null,
   "id": "c4f8561bb80ec437",
   "metadata": {
    "ExecuteTime": {
     "end_time": "2024-04-16T15:52:46.255339Z",
     "start_time": "2024-04-16T15:52:44.943627Z"
    },
    "collapsed": false,
    "jupyter": {
     "outputs_hidden": false
    }
   },
   "outputs": [],
   "source": [
    "\n",
    "\n",
    "from processing.correlation import test_correlation\n",
    "\n",
    "numerical_data = df[float_columns_for_analysis]\n",
    "\n",
    "significant_results = pd.DataFrame(columns=['Variable 1', 'Variable 2', 'Correlation Coefficient', 'P-Value'])\n",
    "rows_list = []\n",
    "\n",
    "alpha = 0.01\n",
    "\n",
    "for col1 in float_columns_for_analysis:\n",
    "    for col2 in float_columns_for_analysis:\n",
    "        if col1 != col2:\n",
    "            r, p = test_correlation(numerical_data, col1, col2)\n",
    "            if p < alpha and r != 1.0:\n",
    "                row = {\n",
    "                    \"Variable 1\": col1,\n",
    "                    \"Variable 2\": col2,\n",
    "                    \"Correlation Coefficient\": r,\n",
    "                    \"P-Value\": p\n",
    "                }\n",
    "                rows_list.append(row)\n",
    "\n",
    "significant_results = pd.concat([significant_results, pd.DataFrame(rows_list)], ignore_index=True)\n",
    "\n",
    "significant_results.sort_values(by='Correlation Coefficient', ascending=False, inplace=True)\n",
    "\n",
    "display(HTML(significant_results.t\n",
    "o_html(index=False, escape=False)))"
   ]
  },
  {
   "cell_type": "code",
   "execution_count": null,
   "id": "7fa05714025005fb",
   "metadata": {
    "ExecuteTime": {
     "end_time": "2024-04-16T15:49:00.620772Z",
     "start_time": "2024-04-16T15:48:59.671088Z"
    },
    "collapsed": false,
    "jupyter": {
     "outputs_hidden": false
    }
   },
   "outputs": [],
   "source": [
    "import matplotlib.pyplot as plt\n",
    "import seaborn as sns\n",
    "\n",
    "numerical_data = df[float_columns_for_analysis]\n",
    "corr_matrix = numerical_data.corr()\n",
    "\n",
    "plt.figure(figsize=(20, 20)) \n",
    "\n",
    "sns.heatmap(corr_matrix, annot=True, fmt=\".2f\", cmap='coolwarm', vmax=1, center=0,\n",
    "            square=True, linewidths=.5, cbar_kws={\"shrink\": .5})\n",
    "\n",
    "plt.title('Correlation Matrix of Numerical Variables')\n",
    "plt.show()"
   ]
  },
  {
   "cell_type": "code",
   "execution_count": null,
   "id": "9ac62e11ccc43cbd",
   "metadata": {
    "ExecuteTime": {
     "end_time": "2024-04-16T15:41:32.148276Z",
     "start_time": "2024-04-16T15:41:32.143428Z"
    },
    "collapsed": false,
    "jupyter": {
     "outputs_hidden": false
    }
   },
   "outputs": [],
   "source": [
    "import seaborn as sns\n",
    "import numpy as np\n",
    "\n",
    "subset_data = df[float_columns_for_analysis].sample(frac=0.1).copy()\n",
    "\n",
    "sns.pairplot(subset_data)\n",
    "plt.show()"
   ]
  },
  {
   "cell_type": "code",
   "execution_count": null,
   "id": "7cebcd9a5b3d39b5",
   "metadata": {
    "ExecuteTime": {
     "start_time": "2024-04-16T15:41:32.145757Z"
    },
    "collapsed": false,
    "jupyter": {
     "outputs_hidden": false
    }
   },
   "outputs": [],
   "source": [
    "\n",
    "only_lists_transformed_df = encoding.encode_list_like(only_lists_df, list_like_columns)\n",
    "category_transformed_df = encoding.encode_categorical(category_like_df, category_like_columns)\n"
   ]
  },
  {
   "cell_type": "code",
   "execution_count": null,
   "id": "4187ada28537ce1d",
   "metadata": {
    "ExecuteTime": {
     "start_time": "2024-04-16T15:41:32.147323Z"
    },
    "collapsed": false,
    "jupyter": {
     "outputs_hidden": false
    }
   },
   "outputs": [],
   "source": [
    "\n",
    "with pd.option_context('display.max_columns', None):\n",
    "    display(only_lists_transformed_df.describe())\n",
    "    display(category_transformed_df.describe())\n",
    "    display(float_like_df.describe())\n",
    "\n",
    "    display(list_like_columns_for_analysis)\n",
    "    display(categorical_columns_for_analysis)\n",
    "    display(float_columns_for_analysis)"
   ]
  },
  {
   "cell_type": "code",
   "execution_count": null,
   "id": "2935fea4088d8df8",
   "metadata": {
    "ExecuteTime": {
     "start_time": "2024-04-16T15:41:32.149573Z"
    },
    "collapsed": false,
    "jupyter": {
     "outputs_hidden": false
    }
   },
   "outputs": [],
   "source": [
    "import pandas as pd\n",
    "\n",
    "combined_df = pd.concat([only_lists_transformed_df, category_transformed_df, float_like_df], axis=1)\n"
   ]
  },
  {
   "cell_type": "code",
   "execution_count": null,
   "id": "7d77632a9e737e7e",
   "metadata": {
    "ExecuteTime": {
     "start_time": "2024-04-16T15:41:32.150826Z"
    },
    "collapsed": false,
    "jupyter": {
     "outputs_hidden": false
    }
   },
   "outputs": [],
   "source": [
    "from sklearn.decomposition import PCA\n",
    "from sklearn.preprocessing import StandardScaler\n",
    "from sklearn.impute import SimpleImputer\n",
    "\n",
    "X = combined_df \n",
    "\n",
    "imputer = SimpleImputer(strategy='median')\n",
    "imputed = imputer.fit_transform(X)\n",
    "imputed_df = pd.DataFrame(imputed, columns=X.columns)    \n",
    "\n",
    "scaler = StandardScaler()\n",
    "combined_scaled = scaler.fit_transform(imputed_df)"
   ]
  },
  {
   "cell_type": "code",
   "execution_count": null,
   "id": "a2678beae8cd648c",
   "metadata": {
    "ExecuteTime": {
     "start_time": "2024-04-16T15:41:32.153600Z"
    },
    "collapsed": false,
    "jupyter": {
     "outputs_hidden": false
    }
   },
   "outputs": [],
   "source": [
    "pca_result = PCA()\n",
    "pca_result.fit(combined_scaled)\n",
    "\n",
    "explained_variance = pca_result.explained_variance_ratio_\n",
    "\n",
    "plt.figure(figsize=(10, 5))\n",
    "plt.bar(range(1, len(explained_variance) + 1), explained_variance, alpha=0.5, align='center', label='Individual explained variance')\n",
    "plt.step(range(1, len(explained_variance) + 1), np.cumsum(explained_variance), where='mid', label='Cumulative explained variance')\n",
    "plt.ylabel('Explained variance ratio')\n",
    "plt.xlabel('Principal component index')\n",
    "plt.title('Scree Plot')\n",
    "plt.legend(loc='best')\n",
    "plt.tight_layout()\n",
    "plt.show()\n",
    "\n",
    "n_components = np.argmax(np.cumsum(explained_variance) >= 0.50) + 1\n",
    "print(\"Number of components to retain to explain at least 50% of the variance:\", n_components)"
   ]
  },
  {
   "cell_type": "code",
   "execution_count": null,
   "id": "17e0730ced3e6c15",
   "metadata": {
    "ExecuteTime": {
     "start_time": "2024-04-16T15:41:32.155107Z"
    },
    "collapsed": false,
    "jupyter": {
     "outputs_hidden": false
    }
   },
   "outputs": [],
   "source": [
    "from processing import pca\n",
    "\n",
    "pca.plot_correlation_circle(pca_result, list_like_columns_for_analysis, title = \"Correlation on list like columns\")\n",
    "pca.plot_correlation_circle(pca_result, categorical_columns_for_analysis, title = \"Correlation on categorical like columns\")\n",
    "pca.plot_correlation_circle(pca_result, float_columns_for_analysis, title = \"Correlation on float like columns\")\n",
    "pca.plot_correlation_circle(pca_result, float_columns_for_analysis + categorical_columns_for_analysis + list_like_columns_for_analysis, title = \"All columns\")\n",
    "pca.plot_correlation_circle(pca_result, list_like_columns_for_analysis, component1=1, component2=2, title = \"Correlation on list like columns 1 - 2\")\n",
    "pca.plot_correlation_circle(pca_result, categorical_columns_for_analysis, component1=1, component2=2, title = \"Correlation on categorical like columns 1 - 2\")\n",
    "pca.plot_correlation_circle(pca_result, float_columns_for_analysis, component1=1, component2=2, title = \"Correlation on float like columns 1 - 2\")\n",
    "pca.plot_correlation_circle(pca_result, float_columns_for_analysis + categorical_columns_for_analysis + list_like_columns_for_analysis, component1=1, component2=2, title = \"All columns 1-2\")\n"
   ]
  },
  {
   "cell_type": "code",
   "execution_count": null,
   "id": "e4824c3cc171cd68",
   "metadata": {
    "ExecuteTime": {
     "start_time": "2024-04-16T15:41:32.156657Z"
    },
    "collapsed": false,
    "jupyter": {
     "outputs_hidden": false
    }
   },
   "outputs": [],
   "source": [
    "from sklearn.ensemble import RandomForestRegressor\n",
    "from sklearn.model_selection import train_test_split\n",
    "analysis_df = pd.DataFrame(combined_scaled.copy(), columns=X.columns)\n",
    "\n",
    "y = analysis_df['xxx']\n",
    "\n",
    "analysis_df.drop(columns=[\"xx\", \"xx\"], inplace=True)\n",
    "\n",
    "X_train, X_test, y_train, y_test = train_test_split(analysis_df, y, test_size=0.2, random_state=42)\n",
    "\n",
    "model = RandomForestRegressor(random_state=42, max_depth=8)\n",
    "model.fit(X_train, y_train)"
   ]
  },
  {
   "cell_type": "code",
   "execution_count": null,
   "id": "2d41b29301a31c25",
   "metadata": {
    "ExecuteTime": {
     "start_time": "2024-04-16T15:41:32.158642Z"
    },
    "collapsed": false,
    "jupyter": {
     "outputs_hidden": false
    }
   },
   "outputs": [],
   "source": [
    "from sklearn.metrics import mean_squared_error, r2_score\n",
    "\n",
    "# Making predictions on the test set\n",
    "y_pred = model.predict(X_test)\n",
    "\n",
    "# Evaluating the model\n",
    "mse = mean_squared_error(y_test, y_pred)\n",
    "r2 = r2_score(y_test, y_pred)\n",
    "\n",
    "print(f\"Mean Squared Error: {mse}\")\n",
    "print(f\"R-squared: {r2}\")"
   ]
  },
  {
   "cell_type": "code",
   "execution_count": null,
   "id": "aaa450cfbde65bcd",
   "metadata": {
    "ExecuteTime": {
     "start_time": "2024-04-16T15:41:32.159731Z"
    },
    "collapsed": false,
    "jupyter": {
     "outputs_hidden": false
    }
   },
   "outputs": [],
   "source": [
    "import numpy as np\n",
    "import matplotlib.pyplot as plt\n",
    "\n",
    "feature_importances = model.feature_importances_\n",
    "features = analysis_df.columns\n",
    "sorted_indices = np.argsort(feature_importances)[::-1]\n",
    "\n",
    "plt.figure(figsize=(30, 30))\n",
    "plt.title(\"Feature Importance\")\n",
    "plt.bar(range(X_train.shape[1]), feature_importances[sorted_indices], align=\"center\")\n",
    "plt.xticks(range(X_train.shape[1]), [features[i] for i in sorted_indices], rotation=90)\n",
    "plt.show()"
   ]
  },
  {
   "cell_type": "code",
   "execution_count": null,
   "id": "1e5a6c831f3d7aa6",
   "metadata": {
    "ExecuteTime": {
     "start_time": "2024-04-16T15:41:32.161058Z"
    },
    "collapsed": false,
    "jupyter": {
     "outputs_hidden": false
    }
   },
   "outputs": [],
   "source": [
    "from sklearn.tree import plot_tree\n",
    "import matplotlib.pyplot as plt\n",
    "\n",
    "tree = model.estimators_[0]\n",
    "\n",
    "plt.figure(figsize=(30, 30))\n",
    "\n",
    "plot_tree(tree,\n",
    "          feature_names=analysis_df.columns,\n",
    "          filled=True,\n",
    "          rounded=True,\n",
    "          max_depth=4,\n",
    "          fontsize=10)\n",
    "\n",
    "plt.show()"
   ]
  },
  {
   "cell_type": "code",
   "execution_count": null,
   "id": "aa3c1069e4ad020f",
   "metadata": {
    "ExecuteTime": {
     "start_time": "2024-04-16T15:41:32.162701Z"
    },
    "collapsed": false,
    "jupyter": {
     "outputs_hidden": false
    }
   },
   "outputs": [],
   "source": []
  }
 ],
 "metadata": {
  "kernelspec": {
   "display_name": "Python 3 (ipykernel)",
   "language": "python",
   "name": "python3"
  },
  "language_info": {
   "codemirror_mode": {
    "name": "ipython",
    "version": 3
   },
   "file_extension": ".py",
   "mimetype": "text/x-python",
   "name": "python",
   "nbconvert_exporter": "python",
   "pygments_lexer": "ipython3",
   "version": "3.11.9"
  }
 },
 "nbformat": 4,
 "nbformat_minor": 5
}
