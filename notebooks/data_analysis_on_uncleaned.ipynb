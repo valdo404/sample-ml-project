{
 "cells": [
  {
   "cell_type": "code",
   "execution_count": null,
   "id": "ee8e0a40-7144-4e18-86cc-263e2eea725d",
   "metadata": {
    "ExecuteTime": {
     "end_time": "2024-04-16T14:44:40.152182Z",
     "start_time": "2024-04-16T14:44:40.132228Z"
    }
   },
   "outputs": [],
   "source": [
    "from IPython.display import display, HTML\n",
    "import pandas as pd\n",
    "import numpy as np\n",
    "import seaborn as sns\n",
    "import matplotlib.pyplot as plt"
   ]
  },
  {
   "cell_type": "code",
   "execution_count": null,
   "id": "initial_id",
   "metadata": {
    "ExecuteTime": {
     "end_time": "2024-04-16T14:44:57.905052Z",
     "start_time": "2024-04-16T14:44:40.139887Z"
    }
   },
   "outputs": [],
   "source": [
    "# first, try to read data using Tab Separated Format.\n",
    "\n",
    "pd.set_option('display.max_columns', None)\n",
    "\n",
    "csv_file_path = 'xxx'\n",
    "\n",
    "df = pd.read_csv(csv_file_path, lineterminator='\\n', dtype={'code': str})\n",
    "\n",
    "# Summary statistics for numerical columns\n",
    "\n",
    "display(HTML('<h3>Summary Statistics for Numerical Columns:</h3>'))\n",
    "display(df.describe())\n",
    "\n",
    "# Count unique values for cat columns\n",
    "\n",
    "display(HTML('<h3>Count of Unique Values in Categorical Columns:</h3>'))\n",
    "unique_counts = df.select_dtypes(include=['object']).nunique()\n",
    "display(unique_counts.sort_values(ascending=False).to_frame('Unique Count'))"
   ]
  },
  {
   "cell_type": "code",
   "execution_count": null,
   "id": "e2f702e4-ccec-4e39-bd44-913daa007cfa",
   "metadata": {
    "ExecuteTime": {
     "end_time": "2024-04-16T14:44:57.989465Z",
     "start_time": "2024-04-16T14:44:57.944240Z"
    }
   },
   "outputs": [],
   "source": [
    "duplicates = df[df[\"code\"].duplicated(keep=False)]\n",
    "has_duplicates = duplicates.any()\n",
    "\n",
    "# Display the duplicates along with their index\n",
    "display(HTML('<h3>Duplicates count:</h3>'))\n",
    "display(len(duplicates))\n",
    "display(HTML('<h3>Duplicates:</h3>'))\n",
    "display(duplicates)"
   ]
  },
  {
   "cell_type": "code",
   "execution_count": null,
   "id": "982ed23b-c423-4d1b-b0d0-8dd14feab7af",
   "metadata": {
    "ExecuteTime": {
     "end_time": "2024-04-16T14:44:59.453256Z",
     "start_time": "2024-04-16T14:44:57.961467Z"
    }
   },
   "outputs": [],
   "source": [
    "\n",
    "\n",
    "# Now that we have a primary dataset, identify numerical columns, and categorical columns\n",
    "\n",
    "numerical_cols = df.select_dtypes(include=[np.number]).columns.tolist()\n",
    "categorical_cols = df.select_dtypes(include=['object']).columns.tolist()\n",
    "\n",
    "# Also identify the missing data rate for each column\n",
    "\n",
    "missing_data = df.isnull().mean() * 100\n",
    "missing_data = missing_data[missing_data > 0].sort_values(ascending=False)\n",
    "\n",
    "# Output the results\n",
    "\n",
    "html = '<h2>Numerical Columns</h2>'\n",
    "html += \"<ul>\"\n",
    "html += \"\".join([f\"<li>{col}</li>\" for col in numerical_cols])\n",
    "html += \"</ul>\"\n",
    "display(HTML(html))\n",
    "\n",
    "html = '<h2>Categorical Columns</h2>'\n",
    "html += \"<ul>\"\n",
    "html += \"\".join([f\"<li>{col}</li>\" for col in categorical_cols])\n",
    "html += \"</ul>\"\n",
    "display(HTML(html))\n",
    "\n",
    "display(HTML('<h2>Missing Data Analysis</h2>'))\n",
    "display(missing_data.to_frame('Missing Data %'))"
   ]
  },
  {
   "cell_type": "code",
   "execution_count": null,
   "id": "f875755b-5d3b-46ae-b0f5-c38216418b64",
   "metadata": {
    "ExecuteTime": {
     "end_time": "2024-04-16T14:44:59.902382Z",
     "start_time": "2024-04-16T14:44:59.451039Z"
    }
   },
   "outputs": [],
   "source": [
    "# Identify the columns that have a missing data rate over 80\n",
    "\n",
    "missing_data = df.isnull().mean() * 100\n",
    "columns_with_over_80_percent_missing = missing_data[missing_data > 80].index.tolist()\n",
    "\n",
    "html = \"<h3>Columns with More than 80% Missing Data:</h3>\"\n",
    "html += \"<ul>\"\n",
    "html += \"\".join([f\"<li>{col}</li>\" for col in columns_with_over_80_percent_missing])\n",
    "html += \"</ul>\"\n",
    "display(HTML(html))\n",
    "\n",
    "html = \"<h3>Number of columns over 80% missing data:</h3>\"\n",
    "display(HTML(html))\n",
    "display(len(columns_with_over_80_percent_missing))\n",
    "\n",
    "columns_at_100_percent_missing = missing_data[missing_data >= 100].index.tolist()\n",
    "\n",
    "html = \"<h3>Columns at 100% Missing Data:</h3>\"\n",
    "html += \"<ul>\"\n",
    "html += \"\".join([f\"<li>{col}</li>\" for col in columns_at_100_percent_missing])\n",
    "html += \"</ul>\"\n",
    "display(HTML(html))\n",
    "\n",
    "html = \"<h3>Number of columns at 100% missing data:</h3>\"\n",
    "display(HTML(html))\n",
    "display(len(columns_at_100_percent_missing))\n"
   ]
  },
  {
   "cell_type": "code",
   "execution_count": null,
   "id": "f7d27c04-718e-4af9-8fb1-600b733112ea",
   "metadata": {
    "ExecuteTime": {
     "end_time": "2024-04-16T14:45:01.299295Z",
     "start_time": "2024-04-16T14:44:59.892945Z"
    }
   },
   "outputs": [],
   "source": [
    "plt.figure(figsize=(10, 30))\n",
    "\n",
    "missing_data = missing_data[missing_data > 0].sort_values(ascending=False)\n",
    "\n",
    "sns.barplot(x=missing_data.values, y=missing_data.index)\n",
    "\n",
    "plt.xlabel('Percentage of Missing Data')\n",
    "plt.ylabel('Columns')\n",
    "plt.title('Distribution of Missing Data in Dataset')\n",
    "\n",
    "plt.show()"
   ]
  },
  {
   "cell_type": "code",
   "execution_count": null,
   "id": "5a68dc7c-810c-4051-b1f7-b321153159a7",
   "metadata": {
    "ExecuteTime": {
     "end_time": "2024-04-16T14:45:02.029750Z",
     "start_time": "2024-04-16T14:45:01.298352Z"
    }
   },
   "outputs": [],
   "source": [
    "import pandas as pd\n",
    "\n",
    "\n",
    "# Some column analysis related to urls, technical and plural columns\n",
    "\n",
    "plural_columns = df.filter(regex='s$').columns\n",
    "other_list_columns = set([])\n",
    "\n",
    "other_columns = set([])\n"
   ]
  },
  {
   "cell_type": "code",
   "execution_count": null,
   "id": "1b74a1ea-4c5a-46b2-9cc2-03f8c8d79113",
   "metadata": {
    "ExecuteTime": {
     "end_time": "2024-04-16T14:45:02.030028Z",
     "start_time": "2024-04-16T14:45:01.714136Z"
    }
   },
   "outputs": [],
   "source": [
    "\n",
    "other_list_columns = list(other_list_columns)\n",
    "other_columns = list(other_columns)\n",
    "\n",
    "# Those column are NA one, remove from processing\n",
    "\n",
    "# Not list based"
   ]
  },
  {
   "cell_type": "code",
   "execution_count": null,
   "id": "f56f632f-f9a1-452d-8fde-a6293941a8c6",
   "metadata": {
    "ExecuteTime": {
     "end_time": "2024-04-16T14:45:02.639896Z",
     "start_time": "2024-04-16T14:45:01.724292Z"
    }
   },
   "outputs": [],
   "source": [
    "# Iteratively display non-missing data for each group of columns\n",
    "\n",
    "\n",
    "\n"
   ]
  },
  {
   "cell_type": "code",
   "execution_count": null,
   "id": "f0ebe51f-4e9b-4c0b-97a1-0a1e0a0ab10f",
   "metadata": {
    "ExecuteTime": {
     "end_time": "2024-04-16T14:45:02.684254Z",
     "start_time": "2024-04-16T14:45:02.452647Z"
    }
   },
   "outputs": [],
   "source": [
    "# Some checks on specific columns\n",
    "\n",
    "object_cols = []\n",
    "for column in object_cols:\n",
    "    print(f\"- {column}\")\n",
    "    display(df[column].dropna())"
   ]
  },
  {
   "cell_type": "code",
   "execution_count": null,
   "id": "3c28ef4a-357b-44fd-9c53-a2cc1136d216",
   "metadata": {
    "ExecuteTime": {
     "end_time": "2024-04-16T14:45:48.107586Z",
     "start_time": "2024-04-16T14:45:02.508985Z"
    }
   },
   "outputs": [],
   "source": [
    "import sys\n",
    "sys.path.append('..')\n",
    "\n",
    "from processing.transformations import *\n",
    "\n",
    "cloned_df = df.copy()\n",
    "\n",
    "\n",
    "\n",
    "cloned_df = cloned_df.drop(columns=columns_with_over_80_percent_missing)\n"
   ]
  },
  {
   "cell_type": "code",
   "execution_count": null,
   "id": "5320e876-2adc-439a-9c7e-268276763155",
   "metadata": {
    "ExecuteTime": {
     "end_time": "2024-04-16T14:45:48.157488Z",
     "start_time": "2024-04-16T14:45:48.104408Z"
    }
   },
   "outputs": [],
   "source": [
    "display(HTML(f'<h3>Visualizing computed data:</h3>'))\n",
    "\n"
   ]
  },
  {
   "cell_type": "code",
   "execution_count": null,
   "id": "d7c5fe88-064e-4684-9d8f-70245527ecd3",
   "metadata": {
    "ExecuteTime": {
     "end_time": "2024-04-16T14:45:51.515780Z",
     "start_time": "2024-04-16T14:45:48.151363Z"
    }
   },
   "outputs": [],
   "source": [
    "object_cols = df.select_dtypes(include=['object']).columns.tolist()\n",
    "for column in object_cols:\n",
    "    print(f\"- {column}\")\n",
    "    display(df[column].value_counts().reset_index().rename(columns={'index': column, column: 'Count'}))\n",
    "\n"
   ]
  },
  {
   "cell_type": "code",
   "execution_count": null,
   "id": "05c6f09e-d0ec-4ddf-adce-0f1f70fe8009",
   "metadata": {
    "ExecuteTime": {
     "end_time": "2024-04-16T14:45:55.129259Z",
     "start_time": "2024-04-16T14:45:50.745992Z"
    }
   },
   "outputs": [],
   "source": [
    "for_drop_decisioning = cloned_df.copy()\n",
    "\n",
    "# Here make documented decisions regarding useless categorical columns\n"
   ]
  },
  {
   "cell_type": "code",
   "execution_count": null,
   "id": "1b5b0c19-999e-4f3f-a3bf-a5f78a038dd7",
   "metadata": {
    "ExecuteTime": {
     "end_time": "2024-04-16T14:45:55.205834Z",
     "start_time": "2024-04-16T14:45:54.288951Z"
    }
   },
   "outputs": [],
   "source": [
    "\n",
    "display(HTML(\"<h3>Visualizing object data after cleaning:</h3>\"))\n",
    "\n",
    "object_cols = for_drop_decisioning.select_dtypes(include=['object']).columns.tolist()\n",
    "for column in object_cols:\n",
    "    print(f\"- {column}\")\n",
    "    display(cloned_df[column].dropna())\n"
   ]
  },
  {
   "cell_type": "code",
   "execution_count": null,
   "id": "4f266304-bec8-41cd-932b-bdb2ea72bb09",
   "metadata": {
    "ExecuteTime": {
     "end_time": "2024-04-16T14:46:04.006821Z",
     "start_time": "2024-04-16T14:45:54.884197Z"
    }
   },
   "outputs": [],
   "source": [
    "# Storing cleaned parquet for future reference\n",
    "\n",
    "parquet_file_path = '../parquets/fr.openfoodfacts.org.products.parquet'\n",
    "\n",
    "for_drop_decisioning.columns = for_drop_decisioning.columns.str.replace('-', '_')\n",
    "\n",
    "for_drop_decisioning.to_parquet(parquet_file_path)\n",
    "\n",
    "# Storing uncleaned parquet for future reference\n",
    "\n",
    "uncleaned_parquet_file_path = '../parquets/fr.openfoodfacts.org.products.uncleaned.parquet'\n",
    "\n",
    "df.columns = df.columns.str.replace('-', '_')\n",
    "\n",
    "df.to_parquet(uncleaned_parquet_file_path)"
   ]
  },
  {
   "cell_type": "code",
   "execution_count": null,
   "id": "a90d6347-1afe-44a9-bb60-70eb2e53200a",
   "metadata": {
    "ExecuteTime": {
     "end_time": "2024-04-16T14:46:04.008662Z",
     "start_time": "2024-04-16T14:46:04.006150Z"
    }
   },
   "outputs": [],
   "source": []
  }
 ],
 "metadata": {
  "kernelspec": {
   "display_name": "Python 3 (ipykernel)",
   "language": "python",
   "name": "python3"
  },
  "language_info": {
   "codemirror_mode": {
    "name": "ipython",
    "version": 3
   },
   "file_extension": ".py",
   "mimetype": "text/x-python",
   "name": "python",
   "nbconvert_exporter": "python",
   "pygments_lexer": "ipython3",
   "version": "3.11.9"
  }
 },
 "nbformat": 4,
 "nbformat_minor": 5
}
